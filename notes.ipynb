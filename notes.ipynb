{
  "cells": [
    {
      "metadata": {
        "trusted": true
      },
      "cell_type": "code",
      "source": "import numpy as np\nimport random\n\nbase_tones = {0: 'C',\n              1: 'C#',\n              2: 'D',\n              3: 'D#',\n              4: 'E',\n              5: 'F',\n              6: 'F#',\n              7: 'G',\n              8: 'G#',\n              9: 'A',\n              10: 'A#',\n              11: 'B'}\n\n\ndef generate_data(num_of_data, length, num_of_notes):\n\n    data = []\n\n    for i in range(num_of_data):\n        random_data = np.random.randint(num_of_notes, size = 32)\n        text = [base_tones[i] for i in random_data]\n        data.append(' '.join(text))\n    return data\n\n\n\nif __name__ == '__main__':\n    \n    num_of_data = 5000\n    length = 32\n    num_of_notes = len(base_tones)\n    \n    data = generate_data(num_of_data, length, num_of_notes)\n    \n    with open('note.txt', 'w') as f:\n        f.write('\\t'.join(data))",
      "execution_count": 1,
      "outputs": []
    },
    {
      "metadata": {
        "trusted": true
      },
      "cell_type": "code",
      "source": "",
      "execution_count": null,
      "outputs": []
    }
  ],
  "metadata": {
    "kernelspec": {
      "name": "python36",
      "display_name": "Python 3.6",
      "language": "python"
    },
    "language_info": {
      "mimetype": "text/x-python",
      "nbconvert_exporter": "python",
      "name": "python",
      "pygments_lexer": "ipython3",
      "version": "3.6.6",
      "file_extension": ".py",
      "codemirror_mode": {
        "version": 3,
        "name": "ipython"
      }
    }
  },
  "nbformat": 4,
  "nbformat_minor": 2
}